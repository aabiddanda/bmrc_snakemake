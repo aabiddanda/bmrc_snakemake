{
 "cells": [
  {
   "cell_type": "code",
   "execution_count": 5,
   "metadata": {},
   "outputs": [],
   "source": [
    "import numpy as np \n",
    "import matplotlib.pyplot as plt\n",
    "import msprime as msp\n",
    "from tqdm import tqdm\n",
    "\n",
    "%matplotlib inline"
   ]
  },
  {
   "cell_type": "code",
   "execution_count": 33,
   "metadata": {},
   "outputs": [
    {
     "name": "stderr",
     "output_type": "stream",
     "text": [
      "5000it [00:05, 905.54it/s]\n"
     ]
    }
   ],
   "source": [
    "# Plotting a simple monte-carlo approximation of Theta\n",
    "mu = 1e-8\n",
    "L = 1e6\n",
    "Ne=1e4\n",
    "theta = 4*Ne*L*mu\n",
    "ts_reps = msp.simulate(Ne=Ne, sample_size=100, length=L, mutation_rate=mu, num_replicates=5000)\n",
    "num_muts = np.array([ts.num_mutations for ts in tqdm(ts_reps)])"
   ]
  },
  {
   "cell_type": "code",
   "execution_count": 34,
   "metadata": {},
   "outputs": [],
   "source": [
    "# Wattersons estimator\n",
    "wat_est = lambda n,k: k / np.sum(1./np.arange(1,n))\n",
    "theta_est = wat_est(100, num_muts)"
   ]
  },
  {
   "cell_type": "code",
   "execution_count": 40,
   "metadata": {},
   "outputs": [
    {
     "name": "stdout",
     "output_type": "stream",
     "text": [
      "400.0 401.473447303806\n"
     ]
    },
    {
     "data": {
      "image/png": "[encoded data removed]",
      "text/plain": [
       "<Figure size 288x288 with 1 Axes>"
      ]
     },
     "metadata": {
      "needs_background": "light"
     },
     "output_type": "display_data"
    }
   ],
   "source": [
    "fig, ax = plt.subplots(1,1,figsize=(4,4))\n",
    "ax.hist(theta_est, alpha=0.5, bins=100);\n",
    "ax.axvline(theta, color='red')\n",
    "ax.axvline(np.mean(theta_est), color='orange')\n",
    "ax.set_xlabel(r'$\\hat{\\theta}_W$', fontsize=14)\n",
    "print(theta, np.mean(theta_est))"
   ]
  }
 ],
 "metadata": {
  "kernelspec": {
   "display_name": "Python 3",
   "language": "python",
   "name": "python3"
  },
  "language_info": {
   "codemirror_mode": {
    "name": "ipython",
    "version": 3
   },
   "file_extension": ".py",
   "mimetype": "text/x-python",
   "name": "python",
   "nbconvert_exporter": "python",
   "pygments_lexer": "ipython3",
   "version": "3.7.4"
  }
 },
 "nbformat": 4,
 "nbformat_minor": 4
}
